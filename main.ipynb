{
 "cells": [
  {
   "cell_type": "code",
   "execution_count": 405,
   "metadata": {},
   "outputs": [
    {
     "data": {
      "text/html": [
       "<div>\n",
       "<style scoped>\n",
       "    .dataframe tbody tr th:only-of-type {\n",
       "        vertical-align: middle;\n",
       "    }\n",
       "\n",
       "    .dataframe tbody tr th {\n",
       "        vertical-align: top;\n",
       "    }\n",
       "\n",
       "    .dataframe thead th {\n",
       "        text-align: right;\n",
       "    }\n",
       "</style>\n",
       "<table border=\"1\" class=\"dataframe\">\n",
       "  <thead>\n",
       "    <tr style=\"text-align: right;\">\n",
       "      <th></th>\n",
       "      <th>name</th>\n",
       "      <th>gender</th>\n",
       "      <th>born_weight</th>\n",
       "      <th>born_height</th>\n",
       "      <th>weight</th>\n",
       "      <th>height</th>\n",
       "      <th>status</th>\n",
       "      <th>age</th>\n",
       "    </tr>\n",
       "  </thead>\n",
       "  <tbody>\n",
       "    <tr>\n",
       "      <th>0</th>\n",
       "      <td>IQBAL AZKA AL FARIZI</td>\n",
       "      <td>1</td>\n",
       "      <td>3.6</td>\n",
       "      <td>50.0</td>\n",
       "      <td>13.5</td>\n",
       "      <td>97.7</td>\n",
       "      <td>Gizi Baik</td>\n",
       "      <td>56</td>\n",
       "    </tr>\n",
       "    <tr>\n",
       "      <th>1</th>\n",
       "      <td>AZKIA DWI HNAUM</td>\n",
       "      <td>0</td>\n",
       "      <td>3.0</td>\n",
       "      <td>48.0</td>\n",
       "      <td>12.3</td>\n",
       "      <td>90.2</td>\n",
       "      <td>Gizi Baik</td>\n",
       "      <td>36</td>\n",
       "    </tr>\n",
       "    <tr>\n",
       "      <th>2</th>\n",
       "      <td>LAELINA FATMAWATI</td>\n",
       "      <td>1</td>\n",
       "      <td>3.2</td>\n",
       "      <td>48.0</td>\n",
       "      <td>14.9</td>\n",
       "      <td>98.8</td>\n",
       "      <td>Gizi Baik</td>\n",
       "      <td>58</td>\n",
       "    </tr>\n",
       "    <tr>\n",
       "      <th>3</th>\n",
       "      <td>KHALISA NUR MILADI</td>\n",
       "      <td>0</td>\n",
       "      <td>3.0</td>\n",
       "      <td>48.0</td>\n",
       "      <td>11.0</td>\n",
       "      <td>81.0</td>\n",
       "      <td>Gizi Baik</td>\n",
       "      <td>30</td>\n",
       "    </tr>\n",
       "    <tr>\n",
       "      <th>4</th>\n",
       "      <td>AL BARRA FALAH HAMIZAN</td>\n",
       "      <td>1</td>\n",
       "      <td>3.0</td>\n",
       "      <td>48.0</td>\n",
       "      <td>9.0</td>\n",
       "      <td>80.4</td>\n",
       "      <td>Gizi Baik</td>\n",
       "      <td>25</td>\n",
       "    </tr>\n",
       "    <tr>\n",
       "      <th>...</th>\n",
       "      <td>...</td>\n",
       "      <td>...</td>\n",
       "      <td>...</td>\n",
       "      <td>...</td>\n",
       "      <td>...</td>\n",
       "      <td>...</td>\n",
       "      <td>...</td>\n",
       "      <td>...</td>\n",
       "    </tr>\n",
       "    <tr>\n",
       "      <th>1364</th>\n",
       "      <td>SYAHRIL ALFAKHRI</td>\n",
       "      <td>1</td>\n",
       "      <td>3.2</td>\n",
       "      <td>46.0</td>\n",
       "      <td>12.5</td>\n",
       "      <td>85.5</td>\n",
       "      <td>Gizi Baik</td>\n",
       "      <td>23</td>\n",
       "    </tr>\n",
       "    <tr>\n",
       "      <th>1365</th>\n",
       "      <td>ASKA ADI WIJAYA</td>\n",
       "      <td>1</td>\n",
       "      <td>3.2</td>\n",
       "      <td>47.0</td>\n",
       "      <td>12.7</td>\n",
       "      <td>91.0</td>\n",
       "      <td>Gizi Baik</td>\n",
       "      <td>28</td>\n",
       "    </tr>\n",
       "    <tr>\n",
       "      <th>1366</th>\n",
       "      <td>SABRIEL RAYYEN</td>\n",
       "      <td>1</td>\n",
       "      <td>3.2</td>\n",
       "      <td>49.0</td>\n",
       "      <td>15.7</td>\n",
       "      <td>105.4</td>\n",
       "      <td>Gizi Baik</td>\n",
       "      <td>57</td>\n",
       "    </tr>\n",
       "    <tr>\n",
       "      <th>1367</th>\n",
       "      <td>AYRA MEIDITHA</td>\n",
       "      <td>0</td>\n",
       "      <td>3.2</td>\n",
       "      <td>48.0</td>\n",
       "      <td>13.2</td>\n",
       "      <td>88.0</td>\n",
       "      <td>Gizi Baik</td>\n",
       "      <td>27</td>\n",
       "    </tr>\n",
       "    <tr>\n",
       "      <th>1368</th>\n",
       "      <td>RAFASYA VIDI SAFWAN</td>\n",
       "      <td>1</td>\n",
       "      <td>3.2</td>\n",
       "      <td>48.0</td>\n",
       "      <td>9.0</td>\n",
       "      <td>69.0</td>\n",
       "      <td>Risiko Gizi Lebih</td>\n",
       "      <td>8</td>\n",
       "    </tr>\n",
       "  </tbody>\n",
       "</table>\n",
       "<p>1369 rows × 8 columns</p>\n",
       "</div>"
      ],
      "text/plain": [
       "                        name  gender  born_weight  born_height  weight  \\\n",
       "0       IQBAL AZKA AL FARIZI       1          3.6         50.0    13.5   \n",
       "1            AZKIA DWI HNAUM       0          3.0         48.0    12.3   \n",
       "2          LAELINA FATMAWATI       1          3.2         48.0    14.9   \n",
       "3         KHALISA NUR MILADI       0          3.0         48.0    11.0   \n",
       "4     AL BARRA FALAH HAMIZAN       1          3.0         48.0     9.0   \n",
       "...                      ...     ...          ...          ...     ...   \n",
       "1364        SYAHRIL ALFAKHRI       1          3.2         46.0    12.5   \n",
       "1365         ASKA ADI WIJAYA       1          3.2         47.0    12.7   \n",
       "1366          SABRIEL RAYYEN       1          3.2         49.0    15.7   \n",
       "1367           AYRA MEIDITHA       0          3.2         48.0    13.2   \n",
       "1368     RAFASYA VIDI SAFWAN       1          3.2         48.0     9.0   \n",
       "\n",
       "      height             status  age  \n",
       "0       97.7          Gizi Baik   56  \n",
       "1       90.2          Gizi Baik   36  \n",
       "2       98.8          Gizi Baik   58  \n",
       "3       81.0          Gizi Baik   30  \n",
       "4       80.4          Gizi Baik   25  \n",
       "...      ...                ...  ...  \n",
       "1364    85.5          Gizi Baik   23  \n",
       "1365    91.0          Gizi Baik   28  \n",
       "1366   105.4          Gizi Baik   57  \n",
       "1367    88.0          Gizi Baik   27  \n",
       "1368    69.0  Risiko Gizi Lebih    8  \n",
       "\n",
       "[1369 rows x 8 columns]"
      ]
     },
     "execution_count": 405,
     "metadata": {},
     "output_type": "execute_result"
    }
   ],
   "source": [
    "import pandas as pd\n",
    "import numpy as np\n",
    "from sklearn.preprocessing import LabelEncoder\n",
    "from sklearn.model_selection import train_test_split\n",
    "\n",
    "# Import dataset\n",
    "df = pd.read_csv('dataset/gizi.csv')\n",
    "\n",
    "# Inisiasi variabel\n",
    "X = df[['age','gender', 'weight', 'height']].values\n",
    "y = df['status'].values # target / label\n",
    "\n",
    "# Membagi dataset menjadi data training dan data testing\n",
    "X_train, X_test, y_train, y_test = train_test_split(X, y, test_size=0.30, shuffle=False)\n",
    "\n",
    "df"
   ]
  },
  {
   "cell_type": "code",
   "execution_count": 406,
   "metadata": {},
   "outputs": [],
   "source": [
    "from sklearn.linear_model import SGDClassifier\n",
    "\n",
    "# Algoritma C 4.5\n",
    "clf = SGDClassifier(loss=\"hinge\", alpha=0.0006, max_iter=1000, shuffle=False)\n",
    "clf = clf.fit(X_train, y_train)"
   ]
  },
  {
   "cell_type": "code",
   "execution_count": 407,
   "metadata": {},
   "outputs": [],
   "source": [
    "y_pred = clf.predict(X_test)"
   ]
  },
  {
   "cell_type": "code",
   "execution_count": 408,
   "metadata": {},
   "outputs": [
    {
     "name": "stdout",
     "output_type": "stream",
     "text": [
      "0.8734793187347932\n"
     ]
    }
   ],
   "source": [
    "from sklearn.metrics import accuracy_score\n",
    "\n",
    "print(accuracy_score(y_test, y_pred))"
   ]
  },
  {
   "cell_type": "code",
   "execution_count": 409,
   "metadata": {},
   "outputs": [
    {
     "name": "stdout",
     "output_type": "stream",
     "text": [
      "(958, 4) (411, 4) 1369\n"
     ]
    }
   ],
   "source": [
    "print(X_train.shape,X_test.shape, X_train.shape[0] + X_test.shape[0])"
   ]
  },
  {
   "cell_type": "code",
   "execution_count": 410,
   "metadata": {},
   "outputs": [
    {
     "data": {
      "text/plain": [
       "array(['Gizi Baik', 'Gizi Baik', 'Gizi Baik', ..., 'Gizi Baik',\n",
       "       'Gizi Baik', 'Risiko Gizi Lebih'], dtype=object)"
      ]
     },
     "execution_count": 410,
     "metadata": {},
     "output_type": "execute_result"
    }
   ],
   "source": [
    "y"
   ]
  },
  {
   "cell_type": "code",
   "execution_count": 411,
   "metadata": {},
   "outputs": [
    {
     "name": "stdout",
     "output_type": "stream",
     "text": [
      "KFold(n_splits=11, random_state=None, shuffle=False)\n",
      "Fold 0:\n",
      "0.864\n",
      "Fold 1:\n",
      "0.896\n",
      "Fold 2:\n",
      "0.88\n",
      "Fold 3:\n",
      "0.816\n",
      "Fold 4:\n",
      "0.92\n",
      "Fold 5:\n",
      "0.8387096774193549\n",
      "Fold 6:\n",
      "0.7983870967741935\n",
      "Fold 7:\n",
      "0.8790322580645161\n",
      "Fold 8:\n",
      "0.8870967741935484\n",
      "Fold 9:\n",
      "0.8629032258064516\n",
      "Fold 10:\n",
      "0.8548387096774194\n"
     ]
    }
   ],
   "source": [
    "from sklearn.model_selection import KFold\n",
    "kf = KFold(n_splits=11)\n",
    "kf.get_n_splits(X)\n",
    "\n",
    "print(kf)\n",
    "for i, (train_index, test_index) in enumerate(kf.split(X)):\n",
    "    print(f\"Fold {i}:\")\n",
    "    # print(f\"  Train: index={train_index}\")\n",
    "    # print(f\"  Train: {X[train_index, :]}\")\n",
    "    # print(f\"  Test:  index={test_index}\")\n",
    "    # print(f\"  Test:  {X[test_index, :]}\")\n",
    "    # print(f\"  Train: index={train_index}\")\n",
    "    # print(f\"  Train: {y[train_index]}\")\n",
    "    # print(f\"  Test:  index={test_index}\")\n",
    "    # print(f\"  Test:  {y[test_index]}\")\n",
    "    clf = SGDClassifier(loss=\"hinge\", alpha=0.0006, max_iter=1000, shuffle=False)\n",
    "    clf = clf.fit(X[train_index, :], y[train_index])\n",
    "    y_pred = clf.predict(X[test_index, :])\n",
    "    print(accuracy_score(y[test_index], y_pred))"
   ]
  },
  {
   "cell_type": "code",
   "execution_count": 412,
   "metadata": {},
   "outputs": [
    {
     "data": {
      "text/plain": [
       "'4e9350d2-4351-438d-b235-23c4f4b0405a'"
      ]
     },
     "execution_count": 412,
     "metadata": {},
     "output_type": "execute_result"
    }
   ],
   "source": [
    "import uuid\n",
    "\n",
    "str(uuid.uuid4())"
   ]
  }
 ],
 "metadata": {
  "kernelspec": {
   "display_name": ".venv",
   "language": "python",
   "name": "python3"
  },
  "language_info": {
   "codemirror_mode": {
    "name": "ipython",
    "version": 3
   },
   "file_extension": ".py",
   "mimetype": "text/x-python",
   "name": "python",
   "nbconvert_exporter": "python",
   "pygments_lexer": "ipython3",
   "version": "3.11.5"
  }
 },
 "nbformat": 4,
 "nbformat_minor": 2
}
