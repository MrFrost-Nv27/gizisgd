{
 "cells": [
  {
   "cell_type": "code",
   "execution_count": 4,
   "metadata": {},
   "outputs": [],
   "source": [
    "import pandas as pd\n",
    "import numpy as np\n",
    "from sklearn.preprocessing import LabelEncoder\n",
    "from sklearn.model_selection import train_test_split\n",
    "\n",
    "# Import dataset\n",
    "df = pd.read_csv('dataset/balita.csv')\n",
    "\n",
    "# Preprocessing\n",
    "# Ubah format tanggal untuk menghitung usia bulan\n",
    "df[['Tgl Lahir','Tanggal Pengukuran']] = df[['Tgl Lahir','Tanggal Pengukuran']].apply(pd.to_datetime)\n",
    "df['Tgl Lahir'] = df['Tgl Lahir'].dt.to_period('M')\n",
    "df['Tanggal Pengukuran'] = df['Tanggal Pengukuran'].dt.to_period('M')\n",
    "\n",
    "# inisiasi usia bulan per balita\n",
    "df['usia'] = df['Tgl Lahir'] - df['Tanggal Pengukuran']\n",
    "df['usia'] = df['usia'].apply(lambda x: abs(x.n))\n",
    "\n",
    "# Mengubah jenis kelamin menjadi nilai biner\n",
    "le = LabelEncoder()\n",
    "le.fit(df['JK'])\n",
    "df['JK'] = le.transform(df[\"JK\"])\n",
    "\n",
    "# Inisiasi variabel\n",
    "X = df[['usia','JK','BB Lahir', 'TB Lahir', 'Berat', 'Tinggi']].values\n",
    "y = df['BB/TB'] # target / label\n",
    "\n",
    "# Membagi dataset menjadi data training dan data testing\n",
    "X_train, X_test, y_train, y_test = train_test_split(X, y, test_size=0.30, shuffle=False)\n",
    "\n",
    "df.to_csv('dataset/gizi.csv', index=False)"
   ]
  },
  {
   "cell_type": "code",
   "execution_count": 209,
   "metadata": {},
   "outputs": [
    {
     "data": {
      "text/plain": [
       "0.851581508515815"
      ]
     },
     "execution_count": 209,
     "metadata": {},
     "output_type": "execute_result"
    }
   ],
   "source": [
    "from sklearn.linear_model import SGDClassifier\n",
    "\n",
    "# Algoritma C 4.5\n",
    "clf = SGDClassifier(loss=\"hinge\", penalty=\"l2\", max_iter=1000)\n",
    "clf = clf.fit(X_train, y_train)\n",
    "clf.score(X_test, y_test)"
   ]
  },
  {
   "cell_type": "code",
   "execution_count": 210,
   "metadata": {},
   "outputs": [
    {
     "name": "stdout",
     "output_type": "stream",
     "text": [
      "(958, 6) (411, 6) 1369\n"
     ]
    }
   ],
   "source": [
    "print(X_train.shape,X_test.shape, X_train.shape[0] + X_test.shape[0])"
   ]
  }
 ],
 "metadata": {
  "kernelspec": {
   "display_name": ".venv",
   "language": "python",
   "name": "python3"
  },
  "language_info": {
   "codemirror_mode": {
    "name": "ipython",
    "version": 3
   },
   "file_extension": ".py",
   "mimetype": "text/x-python",
   "name": "python",
   "nbconvert_exporter": "python",
   "pygments_lexer": "ipython3",
   "version": "3.11.4"
  }
 },
 "nbformat": 4,
 "nbformat_minor": 2
}
