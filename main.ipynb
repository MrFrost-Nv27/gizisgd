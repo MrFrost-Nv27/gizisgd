{
 "cells": [
  {
   "cell_type": "code",
   "execution_count": 31,
   "metadata": {},
   "outputs": [],
   "source": [
    "import pandas as pd\n",
    "import numpy as np\n",
    "from sklearn.preprocessing import LabelEncoder\n",
    "from sklearn.model_selection import train_test_split\n",
    "\n",
    "# Import dataset\n",
    "df = pd.read_csv('dataset/balita.csv')\n",
    "\n",
    "# Preprocessing\n",
    "# Ubah format tanggal untuk menghitung usia bulan\n",
    "df[['Tgl Lahir','Tanggal Pengukuran']] = df[['Tgl Lahir','Tanggal Pengukuran']].apply(pd.to_datetime)\n",
    "df['Tgl Lahir'] = df['Tgl Lahir'].dt.to_period('M')\n",
    "df['Tanggal Pengukuran'] = df['Tanggal Pengukuran'].dt.to_period('M')\n",
    "\n",
    "# inisiasi usia bulan per balita\n",
    "df['usia'] = df['Tgl Lahir'] - df['Tanggal Pengukuran']\n",
    "df['usia'] = df['usia'].apply(lambda x: abs(x.n))\n",
    "\n",
    "# Mengubah jenis kelamin menjadi nilai biner\n",
    "le = LabelEncoder()\n",
    "le.fit(df['JK'])\n",
    "df['JK'] = le.transform(df[\"JK\"])\n",
    "\n",
    "# Inisiasi variabel\n",
    "X = df[['usia','JK','BB Lahir', 'TB Lahir', 'Berat', 'Tinggi']].values\n",
    "y = df['BB/TB'] # target / label\n",
    "\n",
    "# Membagi dataset menjadi data training dan data testing\n",
    "X_train, X_test, y_train, y_test = train_test_split(X, y, test_size=0.30, shuffle=False)"
   ]
  },
  {
   "cell_type": "code",
   "execution_count": 32,
   "metadata": {},
   "outputs": [
    {
     "name": "stderr",
     "output_type": "stream",
     "text": [
      "d:\\Project\\2024\\04-April\\gizisgd\\.venv\\Lib\\site-packages\\sklearn\\linear_model\\_stochastic_gradient.py:723: ConvergenceWarning: Maximum number of iteration reached before convergence. Consider increasing max_iter to improve the fit.\n",
      "  warnings.warn(\n"
     ]
    },
    {
     "data": {
      "text/plain": [
       "0.8540145985401459"
      ]
     },
     "execution_count": 32,
     "metadata": {},
     "output_type": "execute_result"
    }
   ],
   "source": [
    "from sklearn.linear_model import SGDClassifier\n",
    "\n",
    "# Algoritma C 4.5\n",
    "clf = SGDClassifier(loss=\"hinge\", penalty=\"l2\", max_iter=5)\n",
    "clf = clf.fit(X_train, y_train)\n",
    "clf.score(X_test, y_test)"
   ]
  },
  {
   "cell_type": "code",
   "execution_count": 33,
   "metadata": {},
   "outputs": [
    {
     "name": "stdout",
     "output_type": "stream",
     "text": [
      "(958, 6) (411, 6) 1369\n"
     ]
    }
   ],
   "source": [
    "print(X_train.shape,X_test.shape, X_train.shape[0] + X_test.shape[0])"
   ]
  }
 ],
 "metadata": {
  "kernelspec": {
   "display_name": ".venv",
   "language": "python",
   "name": "python3"
  },
  "language_info": {
   "codemirror_mode": {
    "name": "ipython",
    "version": 3
   },
   "file_extension": ".py",
   "mimetype": "text/x-python",
   "name": "python",
   "nbconvert_exporter": "python",
   "pygments_lexer": "ipython3",
   "version": "3.11.5"
  }
 },
 "nbformat": 4,
 "nbformat_minor": 2
}
